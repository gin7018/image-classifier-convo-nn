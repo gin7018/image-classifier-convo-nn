{
  "nbformat": 4,
  "nbformat_minor": 0,
  "metadata": {
    "colab": {
      "provenance": [],
      "gpuType": "T4",
      "authorship_tag": "ABX9TyMdDjngxu3msnp/Je3e5tK7",
      "include_colab_link": true
    },
    "kernelspec": {
      "name": "python3",
      "display_name": "Python 3"
    },
    "language_info": {
      "name": "python"
    },
    "accelerator": "GPU"
  },
  "cells": [
    {
      "cell_type": "markdown",
      "metadata": {
        "id": "view-in-github",
        "colab_type": "text"
      },
      "source": [
        "<a href=\"https://colab.research.google.com/github/gin7018/image-classifier-convo-nn/blob/main/image_classifier_convolutional_nn_pytorch.ipynb\" target=\"_parent\"><img src=\"https://colab.research.google.com/assets/colab-badge.svg\" alt=\"Open In Colab\"/></a>"
      ]
    },
    {
      "cell_type": "code",
      "source": [
        "!pip install torch torchvision"
      ],
      "metadata": {
        "id": "nWkNKK-VbTB7"
      },
      "execution_count": null,
      "outputs": []
    },
    {
      "cell_type": "code",
      "source": [
        "import torch\n",
        "import torchvision\n",
        "import transformers\n",
        "from transformers.modeling_utils import PreTrainedModel\n",
        "\n",
        "class ImageClassifierModel(torch.nn.Module):\n",
        "\n",
        "  def __init__(self, num_labels=10):\n",
        "    super(ImageClassifierModel, self).__init__()\n",
        "\n",
        "    self.convo1= torch.nn.Conv2d(in_channels=3, out_channels=32, kernel_size=3)\n",
        "    self.convo2= torch.nn.Conv2d(in_channels=32, out_channels=32, kernel_size=3)\n",
        "    self.max_pooling1 = torch.nn.MaxPool2d(kernel_size=2, stride=2)\n",
        "\n",
        "    self.convo3= torch.nn.Conv2d(in_channels=32, out_channels=64, kernel_size=3)\n",
        "    self.convo4= torch.nn.Conv2d(in_channels=64, out_channels=64, kernel_size=3)\n",
        "    self.max_pooling2 = torch.nn.MaxPool2d(kernel_size=2, stride=2)\n",
        "\n",
        "    self.connected_layer1 = torch.nn.Linear(in_features=1600, out_features=128)\n",
        "    self.activation_fun = torch.nn.ReLU()\n",
        "    self.connected_layer2 = torch.nn.Linear(in_features=128, out_features=num_labels)\n",
        "\n",
        "  def forward(self, image_input):\n",
        "    output = self.convo1(image_input)\n",
        "    output= self.convo2(output)\n",
        "    output = self.max_pooling1(output)\n",
        "\n",
        "    output = self.convo3(output)\n",
        "    output = self.convo4(output)\n",
        "    output = self.max_pooling2(output)\n",
        "\n",
        "    output = output.reshape(output.size(0), -1)\n",
        "\n",
        "    output = self.connected_layer1(output)\n",
        "    output = self.activation_fun(output)\n",
        "    output = self.connected_layer2(output)\n",
        "    return output"
      ],
      "metadata": {
        "id": "f1yRSJ15khzb"
      },
      "execution_count": 2,
      "outputs": []
    },
    {
      "cell_type": "code",
      "execution_count": 3,
      "metadata": {
        "colab": {
          "base_uri": "https://localhost:8080/"
        },
        "id": "TbKIlT_vZwAs",
        "outputId": "d5d58074-6ce2-427c-e219-c58774be77a0"
      },
      "outputs": [
        {
          "output_type": "stream",
          "name": "stdout",
          "text": [
            "Downloading https://www.cs.toronto.edu/~kriz/cifar-10-python.tar.gz to ./data/cifar-10-python.tar.gz\n"
          ]
        },
        {
          "output_type": "stream",
          "name": "stderr",
          "text": [
            "100%|██████████| 170498071/170498071 [00:05<00:00, 28753153.36it/s]\n"
          ]
        },
        {
          "output_type": "stream",
          "name": "stdout",
          "text": [
            "Extracting ./data/cifar-10-python.tar.gz to ./data\n",
            "Files already downloaded and verified\n"
          ]
        }
      ],
      "source": [
        "import torch\n",
        "import torchvision\n",
        "from torchvision import transforms\n",
        "from torch.utils.data import TensorDataset, random_split, DataLoader, RandomSampler, SequentialSampler\n",
        "\n",
        "data_transformer = transforms.Compose([transforms.Resize((32,32)),\n",
        "                                     transforms.ToTensor(),\n",
        "                                     transforms.Normalize(mean=[0.4914, 0.4822, 0.4465],\n",
        "                                                          std=[0.2023, 0.1994, 0.2010])\n",
        "                                     ])\n",
        "\n",
        "training_set = torchvision.datasets.CIFAR10(\n",
        "    root=\"./data\",\n",
        "    train=True,\n",
        "    transform=data_transformer,\n",
        "    download=True\n",
        ")\n",
        "\n",
        "validation_set = torchvision.datasets.CIFAR10(\n",
        "    root=\"./data\",\n",
        "    train=False,\n",
        "    transform=data_transformer,\n",
        "    download=True\n",
        ")"
      ]
    },
    {
      "cell_type": "code",
      "source": [
        "# model training parameters\n",
        "BATCH_SIZE = 64\n",
        "EPOCHS = 10\n",
        "LEARNING_RATE = 0.001 # TOO LOW OR TOO HIGH of a lr leads to convergence issues (nan) during training\n",
        "\n",
        "training_data_loader = DataLoader(\n",
        "    dataset=training_set,\n",
        "    batch_size=BATCH_SIZE,\n",
        "    sampler=RandomSampler(training_set)\n",
        ")\n",
        "\n",
        "validation_data_loader = DataLoader(\n",
        "    dataset=validation_set,\n",
        "    batch_size=BATCH_SIZE,\n",
        "    sampler=SequentialSampler(validation_set)\n",
        ")"
      ],
      "metadata": {
        "id": "1_Y09usZcs6B"
      },
      "execution_count": 16,
      "outputs": []
    },
    {
      "cell_type": "code",
      "source": [
        "from tqdm import tqdm\n",
        "\n",
        "device = torch.device('cuda:0' if torch.cuda.is_available() else 'cpu')\n",
        "\n",
        "model = ImageClassifierModel()\n",
        "model.to(device)\n",
        "\n",
        "optimizer = torch.optim.Adam(\n",
        "    params=model.parameters(),\n",
        "    lr=LEARNING_RATE\n",
        ")\n",
        "loss_function = torch.nn.CrossEntropyLoss()\n",
        "\n",
        "for epoch in range(EPOCHS):\n",
        "  model.train()\n",
        "  training_progress_bar = tqdm(training_data_loader, desc=f\"Epoch {epoch + 1} - Training\")\n",
        "  for idx, (images, target_labels) in enumerate(training_progress_bar):\n",
        "    images = images.to(device)\n",
        "    target_labels = target_labels.to(device)\n",
        "\n",
        "    outputs = model(images)\n",
        "    loss = loss_function(outputs, target_labels)\n",
        "\n",
        "    optimizer.zero_grad()\n",
        "    loss.backward()\n",
        "    optimizer.step()\n",
        "    training_progress_bar.set_postfix(loss=loss.item())\n",
        "\n",
        "\n",
        "  # testing how good our model is at classifying the sentences\n",
        "  model.eval()\n",
        "  total_correct = 0\n",
        "  total_samples = 0\n",
        "  validation_progress_bar = tqdm(validation_data_loader, desc=f\"Epoch {epoch + 1} - Testing\")\n",
        "  with torch.no_grad():\n",
        "    for idx, (images, target_labels) in enumerate(validation_progress_bar):\n",
        "      images = images.to(device)\n",
        "      target_labels = target_labels.to(device)\n",
        "\n",
        "      outputs = model(images)\n",
        "      _, predictions = torch.max(outputs.data, 1)\n",
        "      total_correct += (predictions == target_labels).sum().item()\n",
        "      total_samples += target_labels.size(0)\n",
        "    print(f\"epoch: {epoch+1}, correct:{total_correct}, total: {total_samples} accuracy: {100 * (total_correct / total_samples)}\")\n",
        "\n",
        "torch.save(model.state_dict(), \"./model\")\n",
        "# model.save_pretrained(\n",
        "#   save_directory=\"./model\",\n",
        "#   state_dict=model.state_dict(),\n",
        "#   push_to_hub=True,\n",
        "#   repo_id=\"ghislainehaha/image-classifier-cnn\",\n",
        "# )"
      ],
      "metadata": {
        "colab": {
          "base_uri": "https://localhost:8080/"
        },
        "id": "dwtYdR6m0bVW",
        "outputId": "8f39ec96-ebf6-42a4-8e62-0978d24d1ebd"
      },
      "execution_count": 17,
      "outputs": [
        {
          "output_type": "stream",
          "name": "stderr",
          "text": [
            "Epoch 1 - Training: 100%|██████████| 782/782 [00:19<00:00, 39.74it/s, loss=1.15]\n",
            "Epoch 1 - Testing: 100%|██████████| 157/157 [00:02<00:00, 54.93it/s]\n"
          ]
        },
        {
          "output_type": "stream",
          "name": "stdout",
          "text": [
            "epoch: 1, correct:6308, total: 10000 accuracy: 63.080000000000005\n"
          ]
        },
        {
          "output_type": "stream",
          "name": "stderr",
          "text": [
            "Epoch 2 - Training: 100%|██████████| 782/782 [00:19<00:00, 40.71it/s, loss=0.639]\n",
            "Epoch 2 - Testing: 100%|██████████| 157/157 [00:03<00:00, 48.55it/s]\n"
          ]
        },
        {
          "output_type": "stream",
          "name": "stdout",
          "text": [
            "epoch: 2, correct:6741, total: 10000 accuracy: 67.41\n"
          ]
        },
        {
          "output_type": "stream",
          "name": "stderr",
          "text": [
            "Epoch 3 - Training: 100%|██████████| 782/782 [00:18<00:00, 41.80it/s, loss=0.576]\n",
            "Epoch 3 - Testing: 100%|██████████| 157/157 [00:02<00:00, 52.78it/s]\n"
          ]
        },
        {
          "output_type": "stream",
          "name": "stdout",
          "text": [
            "epoch: 3, correct:6878, total: 10000 accuracy: 68.78\n"
          ]
        },
        {
          "output_type": "stream",
          "name": "stderr",
          "text": [
            "Epoch 4 - Training: 100%|██████████| 782/782 [00:19<00:00, 40.23it/s, loss=0.751]\n",
            "Epoch 4 - Testing: 100%|██████████| 157/157 [00:02<00:00, 55.52it/s]\n"
          ]
        },
        {
          "output_type": "stream",
          "name": "stdout",
          "text": [
            "epoch: 4, correct:6967, total: 10000 accuracy: 69.67\n"
          ]
        },
        {
          "output_type": "stream",
          "name": "stderr",
          "text": [
            "Epoch 5 - Training: 100%|██████████| 782/782 [00:19<00:00, 41.06it/s, loss=0.691]\n",
            "Epoch 5 - Testing: 100%|██████████| 157/157 [00:03<00:00, 50.95it/s]\n"
          ]
        },
        {
          "output_type": "stream",
          "name": "stdout",
          "text": [
            "epoch: 5, correct:7009, total: 10000 accuracy: 70.09\n"
          ]
        },
        {
          "output_type": "stream",
          "name": "stderr",
          "text": [
            "Epoch 6 - Training: 100%|██████████| 782/782 [00:21<00:00, 36.66it/s, loss=0.535]\n",
            "Epoch 6 - Testing: 100%|██████████| 157/157 [00:03<00:00, 45.36it/s]\n"
          ]
        },
        {
          "output_type": "stream",
          "name": "stdout",
          "text": [
            "epoch: 6, correct:7133, total: 10000 accuracy: 71.33\n"
          ]
        },
        {
          "output_type": "stream",
          "name": "stderr",
          "text": [
            "Epoch 7 - Training: 100%|██████████| 782/782 [00:18<00:00, 41.69it/s, loss=0.548]\n",
            "Epoch 7 - Testing: 100%|██████████| 157/157 [00:03<00:00, 47.98it/s]\n"
          ]
        },
        {
          "output_type": "stream",
          "name": "stdout",
          "text": [
            "epoch: 7, correct:6838, total: 10000 accuracy: 68.38\n"
          ]
        },
        {
          "output_type": "stream",
          "name": "stderr",
          "text": [
            "Epoch 8 - Training: 100%|██████████| 782/782 [00:19<00:00, 40.29it/s, loss=0.502]\n",
            "Epoch 8 - Testing: 100%|██████████| 157/157 [00:02<00:00, 57.14it/s]\n"
          ]
        },
        {
          "output_type": "stream",
          "name": "stdout",
          "text": [
            "epoch: 8, correct:7010, total: 10000 accuracy: 70.1\n"
          ]
        },
        {
          "output_type": "stream",
          "name": "stderr",
          "text": [
            "Epoch 9 - Training: 100%|██████████| 782/782 [00:19<00:00, 40.59it/s, loss=0.418]\n",
            "Epoch 9 - Testing: 100%|██████████| 157/157 [00:03<00:00, 49.64it/s]\n"
          ]
        },
        {
          "output_type": "stream",
          "name": "stdout",
          "text": [
            "epoch: 9, correct:7009, total: 10000 accuracy: 70.09\n"
          ]
        },
        {
          "output_type": "stream",
          "name": "stderr",
          "text": [
            "Epoch 10 - Training: 100%|██████████| 782/782 [00:18<00:00, 42.34it/s, loss=0.399]\n",
            "Epoch 10 - Testing: 100%|██████████| 157/157 [00:03<00:00, 51.19it/s]"
          ]
        },
        {
          "output_type": "stream",
          "name": "stdout",
          "text": [
            "epoch: 10, correct:6966, total: 10000 accuracy: 69.66\n"
          ]
        },
        {
          "output_type": "stream",
          "name": "stderr",
          "text": [
            "\n"
          ]
        }
      ]
    }
  ]
}